{
 "cells": [
  {
   "cell_type": "markdown",
   "metadata": {},
   "source": [
    "# Capstone: Unaccounted Homeless Individuals in New York City\n",
    "**_Author: Despina Daisy Matos_**"
   ]
  },
  {
   "cell_type": "markdown",
   "metadata": {},
   "source": [
    "## Table of Contents \n",
    "- [Libraries](#Libraries)\n",
    "- [Outside Research](#Outside-Research)\n",
    "    - [Feature Selection](#Feature-Selection)\n",
    "- [Cleaning Data](#Cleaning-Data)\n",
    "    - [S1](#)\n",
    "    - [S2](#)\n",
    "    - [S3](#)\n",
    "    - [S4](#)\n",
    "    - [S5](#)\n",
    "- [Concatenating Data](#Concatenating-Data)\n",
    "    - [Saved Final Dataset](#)\n",
    "    - [Data Dictionary](#)\n",
    "- [Exploratory Data Analysis](#)\n",
    "    - [Summary Statistics](#)\n",
    "    - [Graphs](#)\n",
    "    - [Outliers](#)\n",
    "- [Preprocessing](#)\n",
    "    - [Feature Engineering](#)\n",
    "    - [Creating X feature and y](#)\n",
    "    - [Train-test Split](#)\n",
    "    - [Determing the Baseline Score](#)\n",
    "- [Modeling](#Modeling)\n",
    "- [Conclusion and Recommendations](#)\n",
    "- [Sources](#Sources)"
   ]
  },
  {
   "cell_type": "markdown",
   "metadata": {},
   "source": [
    "## Libraries"
   ]
  },
  {
   "cell_type": "code",
   "execution_count": 1,
   "metadata": {},
   "outputs": [],
   "source": [
    "import pandas as pd\n",
    "\n",
    "#more would be added on "
   ]
  },
  {
   "cell_type": "markdown",
   "metadata": {},
   "source": [
    "## Outside Research"
   ]
  },
  {
   "cell_type": "markdown",
   "metadata": {},
   "source": [
    "Explaining my findings and key takeaways."
   ]
  },
  {
   "cell_type": "markdown",
   "metadata": {},
   "source": [
    "### Feature Selection"
   ]
  },
  {
   "cell_type": "markdown",
   "metadata": {},
   "source": [
    "- Permanent Supportive Housing\n",
    "- Emergency Shelter\n",
    "- Temporary Housing\n",
    "- Rapid Rehousing\n",
    "- The impetus for determining the number of homeless people results largely from increased interest in the projection of service needs and the distribution of resources for the homeless.\n",
    "- Unemployment rates\n",
    "- Mental illness\n",
    "- Shelter systems in NYC\n",
    "- Chronically Homeless\t\n",
    "- Eviction rates \n",
    "- 311 Service requests \n",
    "- Total Vacant Units\n",
    "- Housing Units Available "
   ]
  },
  {
   "cell_type": "markdown",
   "metadata": {},
   "source": [
    "# Cleaning Data"
   ]
  },
  {
   "cell_type": "markdown",
   "metadata": {},
   "source": [
    "## Sources"
   ]
  },
  {
   "cell_type": "markdown",
   "metadata": {},
   "source": [
    "- [Basic Facts About NYC homelessness](https://www.coalitionforthehomeless.org/basic-facts-about-homelessness-new-york-city/)\n",
    "- [NYT article about homelessness](https://www.nytimes.com/2019/05/30/nyregion/homeless-nyc.html)\n",
    "- [Data on Student Homelessness in NYS](https://nysteachs.org/topic-resource/data-on-student-homelessness-nys/)\n",
    "- [Understanding homelessness](http://www.understandhomelessness.com/)\n",
    "- [HUD 2019 Continuum of Care Homeless Assistance Programs Homeless Populations and Subpopulations](https://files.hudexchange.info/reports/published/CoC_PopSub_State_NY_2019.pdf)\n",
    "- [NYC Open Data(Evictions)](https://data.cityofnewyork.us/City-Government/Evictions/6z8x-wfk4/data)\n",
    "- [SAIPE Model Input Data(census)](https://www.census.gov/data/datasets/time-series/demo/saipe/model-tables.html#)\n",
    "- [Poverty is Down — But Concerns About Homelessness Remain Up(NETEH)](https://endhomelessness.org/poverty-is-down-but-concerns-about-homelessness-remain-up/)\n",
    "- [2019 PIT Estimate of Veteran Homelessness in the U.S.](https://www.hudexchange.info/resource/5877/2019-pit-estimate-of-veteran-homelessness-in-the-us/)\n",
    "- [311 Service Requests from 2010 to Present](https://data.cityofnewyork.us/Social-Services/311-Service-Requests-from-2010-to-Present/erm2-nwe9/data)\n",
    "- [Shelter Repair Scorecard](https://data.cityofnewyork.us/Social-Services/Shelter-Repair-Scorecard/dvaj-b7yx/data)\n",
    "\n",
    "- [Capital Improvement Evictions](https://www.antievictionmap.com/capital-improvement-evictions-san-francisco/)\n",
    "\n",
    "- [Directory Of Unsheltered Street Homeless To General Population Ratio 2012](https://data.cityofnewyork.us/Social-Services/Directory-Of-Unsheltered-Street-Homeless-To-Genera/483x-fy9e)\n",
    "\n",
    "- [Stats & Reports - DHS](https://www1.nyc.gov/site/dhs/about/stats-and-reports.page)\n",
    "\n",
    "- [Review of models\n",
    "of homelessness](https://assets.publishing.service.gov.uk/government/uploads/system/uploads/attachment_data/file/788838/Homelessness_Models.pdf)\n",
    "- [Homelessness Service Provision: A Data Science Perspective](https://www.cse.wustl.edu/~sanmay/papers/hsp-dsp.pdf)\n",
    " \n",
    "- [Panel Paper: Predicting Family Homelessness Using Machine Learning](https://appam.confex.com/appam/2016/webprogram/Paper19172.html)\n",
    "\n",
    "- [The Methodology of Counting the Homeless](https://www.ncbi.nlm.nih.gov/books/NBK218229/)\n",
    "\n",
    "- [Identifying and Supporting Angelenos At Risk of Experiencing Homelessness](https://urbanlabs.uchicago.edu/projects/using-predictive-analytics-to-prevent-homelessness-in-los-angeles)\n",
    "\n",
    "- [Predicting Homeless Shelter Entry](https://www1.nyc.gov/site/cidi/projects/predicting-homeless-shelter-entry.page)\n",
    "\n",
    "- [Homelessness Prevention](https://www1.nyc.gov/site/hra/help/homelessness-prevention.page)\n"
   ]
  }
 ],
 "metadata": {
  "kernelspec": {
   "display_name": "Python 3",
   "language": "python",
   "name": "python3"
  },
  "language_info": {
   "codemirror_mode": {
    "name": "ipython",
    "version": 3
   },
   "file_extension": ".py",
   "mimetype": "text/x-python",
   "name": "python",
   "nbconvert_exporter": "python",
   "pygments_lexer": "ipython3",
   "version": "3.7.4"
  }
 },
 "nbformat": 4,
 "nbformat_minor": 2
}
